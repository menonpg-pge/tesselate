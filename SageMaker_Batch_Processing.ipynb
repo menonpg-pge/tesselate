{
 "cells": [
  {
   "cell_type": "markdown",
   "metadata": {},
   "source": [
    "# Batch Image Tesselation for SageMaker\n",
    "\n",
    "Large-scale processing of TIFF images with automatic slicing and metadata generation."
   ]
  },
  {
   "cell_type": "code",
   "execution_count": null,
   "metadata": {},
   "outputs": [],
   "source": [
    "# Install required packages if needed\n",
    "!pip install pillow numpy tqdm"
   ]
  },
  {
   "cell_type": "code",
   "execution_count": null,
   "metadata": {},
   "outputs": [],
   "source": [
    "import os\n",
    "from batch_tesselate import BatchTesselator, BatchJob\n",
    "\n",
    "# Configuration\n",
    "INPUT_DIR = '/home/ec2-user/SageMaker/12gb_dataset'  # Update this path\n",
    "OUTPUT_DIR = '/home/ec2-user/SageMaker/processed_output'\n",
    "\n",
    "# Create batch job configuration\n",
    "job_config = BatchJob(\n",
    "    input_dir=INPUT_DIR,\n",
    "    output_dir=OUTPUT_DIR,\n",
    "    num_pieces=8,           # Split each image into 8 pieces\n",
    "    max_workers=4,          # Adjust based on instance specs\n",
    "    min_image_size=1024,    # Skip images smaller than 1024px\n",
    "    skip_existing=True,     # Skip already processed images\n",
    "    resume_mode=True,       # Enable resume capability\n",
    "    log_level='INFO'\n",
    ")\n",
    "\n",
    "print(f'Input directory: {INPUT_DIR}')\n",
    "print(f'Output directory: {OUTPUT_DIR}')\n",
    "print(f'Configuration: {job_config}')"
   ]
  },
  {
   "cell_type": "code",
   "execution_count": null,
   "metadata": {},
   "outputs": [],
   "source": [
    "# Initialize batch processor\n",
    "processor = BatchTesselator(job_config)\n",
    "\n",
    "# Run a quick scan to see what will be processed\n",
    "tiff_files = processor.find_tiff_images()\n",
    "print(f'Found {len(tiff_files)} TIFF images to process')\n",
    "\n",
    "# Show first few files as preview\n",
    "if tiff_files:\n",
    "    print('\\nFirst 10 files to process:')\n",
    "    for i, (full_path, rel_path) in enumerate(tiff_files[:10]):\n",
    "        print(f'{i+1:2d}. {rel_path}')"
   ]
  },
  {
   "cell_type": "code",
   "execution_count": null,
   "metadata": {},
   "outputs": [],
   "source": [
    "# Start batch processing\n",
    "# WARNING: This will process ALL TIFF files found\n",
    "# Make sure the configuration above is correct before running\n",
    "\n",
    "print('Starting batch processing...')\n",
    "print('This may take several hours for large datasets')\n",
    "print('You can interrupt and resume later if needed')\n",
    "\n",
    "report = processor.run_batch()"
   ]
  },
  {
   "cell_type": "code",
   "execution_count": null,
   "metadata": {},
   "outputs": [],
   "source": [
    "# Check results and create ZIP archive\n",
    "import shutil\n",
    "\n",
    "# Create ZIP of processed results\n",
    "zip_filename = f'{OUTPUT_DIR}_results.zip'\n",
    "print(f'Creating ZIP archive: {zip_filename}')\n",
    "\n",
    "shutil.make_archive(\n",
    "    OUTPUT_DIR + '_results',\n",
    "    'zip',\n",
    "    OUTPUT_DIR\n",
    ")\n",
    "\n",
    "# Get ZIP file size\n",
    "zip_size = os.path.getsize(zip_filename) / (1024**3)  # GB\n",
    "print(f'ZIP file created: {zip_filename} ({zip_size:.2f} GB)')\n",
    "\n",
    "print('\\nReady for download and S3 upload!')"
   ]
  }
 ],
 "metadata": {
  "kernelspec": {
   "display_name": "Python 3",
   "language": "python",
   "name": "python3"
  }
 },
 "nbformat": 4,
 "nbformat_minor": 4
}
